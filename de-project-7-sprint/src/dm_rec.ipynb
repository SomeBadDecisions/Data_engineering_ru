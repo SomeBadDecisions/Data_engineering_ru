{
 "cells": [
  {
   "cell_type": "code",
   "execution_count": 1,
   "id": "f810fd75",
   "metadata": {},
   "outputs": [],
   "source": [
    "import os\n",
    "os.environ['HADOOP_CONF_DIR'] = '/etc/hadoop/conf'\n",
    "os.environ['YARN_CONF_DIR'] = '/etc/hadoop/conf'\n",
    " \n",
    "import findspark\n",
    "findspark.init()\n",
    "findspark.find()\n",
    " \n",
    " \n",
    "import pyspark\n",
    "from pyspark.sql import SparkSession\n",
    "from pyspark.context import SparkContext\n",
    "import pyspark.sql.functions as F\n",
    "from pyspark.sql.window import Window\n",
    "from pyspark.sql.types import DateType\n",
    " \n",
    " \n",
    "spark = SparkSession \\\n",
    "    .builder \\\n",
    "    .master(\"local[*]\") \\\n",
    "    .appName(\"rec_lake_3\") \\\n",
    "    .getOrCreate()"
   ]
  },
  {
   "cell_type": "code",
   "execution_count": 2,
   "id": "51536809",
   "metadata": {},
   "outputs": [],
   "source": [
    "events_path = \"C:\\\\Users\\\\rubts\\\\Desktop\\\\stg\\\\stg\\\\part-00001.parquet\"\n",
    "\n",
    "events_geo = spark.read.parquet(events_path) \\\n",
    "    .withColumnRenamed(\"lat\", \"msg_lat\")\\\n",
    "    .withColumnRenamed(\"lon\",\"msg_lon\")\\\n",
    "    .withColumn('user_id', F.col('event.message_from'))\\\n",
    "    .withColumn('event_id', F.monotonically_increasing_id())"
   ]
  },
  {
   "cell_type": "code",
   "execution_count": 3,
   "id": "9ef2ddbb",
   "metadata": {},
   "outputs": [],
   "source": [
    "geo_path = \"C:\\\\Users\\\\rubts\\\\Desktop\\\\geo_timezone.csv\"\n",
    "\n",
    "geo = spark.read.csv(geo_path, sep=';', header= True)\\\n",
    "      .withColumnRenamed(\"lat\", \"city_lat\")\\\n",
    "      .withColumnRenamed(\"lng\", \"city_lon\")"
   ]
  },
  {
   "cell_type": "code",
   "execution_count": 4,
   "id": "204b8d1f",
   "metadata": {},
   "outputs": [],
   "source": [
    "def get_city(events_geo, geo):\n",
    "\n",
    "    EARTH_R = 6371\n",
    "\n",
    "    calculate_diff = 2 * F.lit(EARTH_R) * F.asin(\n",
    "            F.sqrt(\n",
    "                F.pow(F.sin((F.radians(F.col(\"msg_lat\")) - F.radians(F.col(\"city_lat\"))) / 2), 2) +\n",
    "                F.cos(F.radians(F.col(\"msg_lat\"))) * F.cos(F.radians(F.col(\"city_lat\"))) *\n",
    "                F.pow(F.sin((F.radians(F.col(\"msg_lon\")) - F.radians(F.col(\"city_lon\"))) / 2), 2)\n",
    "            )\n",
    "        )\n",
    "\n",
    "    window = Window().partitionBy('event_id').orderBy(F.col('diff').asc())\n",
    "    events = events_geo \\\n",
    "            .crossJoin(geo) \\\n",
    "            .withColumn('diff', calculate_diff) \\\n",
    "            .withColumn(\"row_number\", F.row_number().over(window)) \\\n",
    "            .filter(F.col('row_number')==1) \\\n",
    "            .drop('row_number') \n",
    "    \n",
    "\n",
    "    return events"
   ]
  },
  {
   "cell_type": "code",
   "execution_count": 5,
   "id": "517c7402",
   "metadata": {},
   "outputs": [],
   "source": [
    "events = get_city(\n",
    "    events_geo=events_geo,\n",
    "    geo=geo\n",
    ")"
   ]
  },
  {
   "cell_type": "code",
   "execution_count": 7,
   "id": "3d780c5e",
   "metadata": {},
   "outputs": [],
   "source": [
    "window_last_msg = Window.partitionBy('user_id').orderBy(F.col('event.message_ts').desc())\n",
    "last_msg = events.where(\"event_type == 'message'\") \\\n",
    "    .where('msg_lon is not null') \\\n",
    "    .withColumn(\"rn\",F.row_number().over(window_last_msg)) \\\n",
    "    .filter(F.col('rn') == 1) \\\n",
    "    .drop(F.col('rn')) \\\n",
    "    .selectExpr('user_id', 'msg_lon as lon', 'msg_lat as lat', 'city', 'event.datetime as datetime', 'timezone')"
   ]
  },
  {
   "cell_type": "code",
   "execution_count": 8,
   "id": "964197e8",
   "metadata": {},
   "outputs": [],
   "source": [
    "user_channel = events_geo.select(\n",
    "    F.col('event.subscription_channel').alias('channel'),\n",
    "    F.col('event.user').alias('user_id')\n",
    ").distinct()"
   ]
  },
  {
   "cell_type": "code",
   "execution_count": 9,
   "id": "97afd261",
   "metadata": {},
   "outputs": [],
   "source": [
    "user_channel_f = user_channel \\\n",
    "            .join(user_channel.withColumnRenamed('user_id', 'user_id_2'), ['channel'], 'inner') \\\n",
    "            .filter('user_id < user_id_2')"
   ]
  },
  {
   "cell_type": "code",
   "execution_count": 10,
   "id": "8f3245b3",
   "metadata": {},
   "outputs": [],
   "source": [
    "channel_msg = last_msg \\\n",
    "              .join(user_channel_f, ['user_id'], 'inner') \\\n",
    "              .withColumnRenamed(\"lon\", \"user_1_lon\") \\\n",
    "              .withColumnRenamed(\"lat\", \"user_1_lat\") \\\n",
    "              .withColumnRenamed(\"city\", \"city_1\") \\\n",
    "              .withColumnRenamed(\"datetime\", \"datetime_1\") \\\n",
    "              .withColumnRenamed(\"timezone\", \"timezone_1\") \\\n",
    "              .join(last_msg.withColumnRenamed(\"user_id\", \"user_id_2\"), [\"user_id_2\"], \"inner\") \\\n",
    "              .withColumnRenamed(\"lon\", \"user_2_lon\") \\\n",
    "              .withColumnRenamed(\"lat\", \"user_2_lat\") \\\n",
    "              .withColumnRenamed(\"city\", \"city_2\") \\\n",
    "              .withColumnRenamed(\"datetime\", \"datetime_2\") \\\n",
    "              .withColumnRenamed(\"timezone\", \"timezone_2\") "
   ]
  },
  {
   "cell_type": "code",
   "execution_count": 11,
   "id": "ec59369c",
   "metadata": {},
   "outputs": [],
   "source": [
    "distance = channel_msg \\\n",
    "    .withColumn('pre_lon', F.radians(F.col('user_1_lon')) - F.radians(F.col('user_2_lon'))) \\\n",
    "    .withColumn('pre_lat', F.radians(F.col('user_1_lat')) - F. radians(F.col('user_2_lat'))) \\\n",
    "    .withColumn('dist', F.asin(F.sqrt(\n",
    "        F.sin(F.col('pre_lat') / 2) ** 2 + F.cos(F.radians(F.col('user_2_lat')))\n",
    "        * F.cos(F.radians(F.col('user_1_lat'))) * F.sin(F.col('pre_lon') / 2) ** 2\n",
    "    )) * 2 * 6371) \\\n",
    "    .filter(F.col('dist') <= 1) \\\n",
    "    .withColumn(\"TIME\",F.col(\"datetime_1\").cast(\"Timestamp\"))\\\n",
    "    .withColumn(\"local_time\",F.from_utc_timestamp(F.col(\"TIME\"),F.col('timezone_1')))"
   ]
  },
  {
   "cell_type": "code",
   "execution_count": 12,
   "id": "f0ebbea9",
   "metadata": {},
   "outputs": [],
   "source": [
    "events_pairs = events.selectExpr('event.message_from as user_id','event.message_to as user_id_2') \\\n",
    "               .where(F.col('user_id_2').isNotNull())"
   ]
  },
  {
   "cell_type": "code",
   "execution_count": 13,
   "id": "fdf94728",
   "metadata": {},
   "outputs": [],
   "source": [
    "events_pairs_union = events_pairs.union(events_pairs.select('user_id_2', 'user_id')).distinct()"
   ]
  },
  {
   "cell_type": "code",
   "execution_count": 14,
   "id": "b01fd41e",
   "metadata": {
    "scrolled": false
   },
   "outputs": [],
   "source": [
    "result = distance \\\n",
    "    .join(events_pairs_union, ['user_id', 'user_id_2'], 'left_anti') \\\n",
    "    .withColumn('processed_dttm', F.current_timestamp()) \\\n",
    "    .selectExpr('user_id as user_left', 'user_id_2 as user_right', 'processed_dttm', 'city_1 as city', 'local_time') \\\n",
    "    .distinct()"
   ]
  }
 ],
 "metadata": {
  "kernelspec": {
   "display_name": "Python 3 (ipykernel)",
   "language": "python",
   "name": "python3"
  },
  "language_info": {
   "codemirror_mode": {
    "name": "ipython",
    "version": 3
   },
   "file_extension": ".py",
   "mimetype": "text/x-python",
   "name": "python",
   "nbconvert_exporter": "python",
   "pygments_lexer": "ipython3",
   "version": "3.9.13"
  }
 },
 "nbformat": 4,
 "nbformat_minor": 5
}
