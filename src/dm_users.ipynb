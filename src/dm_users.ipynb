{
 "cells": [
  {
   "cell_type": "code",
   "execution_count": 115,
   "id": "0d215439",
   "metadata": {},
   "outputs": [],
   "source": [
    "import os\n",
    "os.environ['HADOOP_CONF_DIR'] = '/etc/hadoop/conf'\n",
    "os.environ['YARN_CONF_DIR'] = '/etc/hadoop/conf'\n",
    " \n",
    "import findspark\n",
    "findspark.init()\n",
    "findspark.find()\n",
    " \n",
    " \n",
    "import pyspark\n",
    "from pyspark.sql import SparkSession\n",
    "from pyspark.context import SparkContext\n",
    "import pyspark.sql.functions as F\n",
    "from pyspark.sql.window import Window\n",
    "from pyspark.sql.types import DateType\n",
    " \n",
    " \n",
    "spark = SparkSession \\\n",
    "    .builder \\\n",
    "    .master(\"local[*]\") \\\n",
    "    .appName(\"rec_lake\") \\\n",
    "    .getOrCreate()"
   ]
  },
  {
   "cell_type": "code",
   "execution_count": 116,
   "id": "9d1f8537",
   "metadata": {},
   "outputs": [],
   "source": [
    "events_path = \"C:\\\\Users\\\\rubts\\\\Desktop\\\\stg\\\\stg\\\\part-00001.parquet\"\n",
    "\n",
    "events_geo = spark.read.parquet(events_path) \\\n",
    "    .where(\"event_type == 'message'\")\\\n",
    "    .withColumnRenamed(\"lat\", \"msg_lat\")\\\n",
    "    .withColumnRenamed(\"lon\",\"msg_lon\")\\\n",
    "    .withColumn('user_id', F.col('event.message_from'))\\\n",
    "    .withColumn('event_id', F.monotonically_increasing_id())"
   ]
  },
  {
   "cell_type": "code",
   "execution_count": 117,
   "id": "01db992e",
   "metadata": {},
   "outputs": [],
   "source": [
    "geo_path = \"C:\\\\Users\\\\rubts\\\\Desktop\\\\geo_timezone.csv\"\n",
    "\n",
    "geo = spark.read.csv(geo_path, sep=';', header= True)\\\n",
    "      .withColumnRenamed(\"lat\", \"city_lat\")\\\n",
    "      .withColumnRenamed(\"lng\", \"city_lon\")"
   ]
  },
  {
   "cell_type": "code",
   "execution_count": 184,
   "id": "3254cd82",
   "metadata": {},
   "outputs": [],
   "source": [
    "def get_city(events_geo, geo):\n",
    "\n",
    "    EARTH_R = 6371\n",
    "\n",
    "    calculate_diff = 2 * F.lit(EARTH_R) * F.asin(\n",
    "            F.sqrt(\n",
    "                F.pow(F.sin((F.radians(F.col(\"msg_lat\")) - F.radians(F.col(\"city_lat\"))) / 2), 2) +\n",
    "                F.cos(F.radians(F.col(\"msg_lat\"))) * F.cos(F.radians(F.col(\"city_lat\"))) *\n",
    "                F.pow(F.sin((F.radians(F.col(\"msg_lon\")) - F.radians(F.col(\"city_lon\"))) / 2), 2)\n",
    "            )\n",
    "        )\n",
    "\n",
    "    window = Window().partitionBy('user_id').orderBy(F.col('diff').asc())\n",
    "    events = events_geo \\\n",
    "            .crossJoin(geo) \\\n",
    "            .withColumn('diff', calculate_diff) \\\n",
    "            .withColumn(\"row_number\", F.row_number().over(window)) \\\n",
    "            .filter(F.col('row_number')==1) \\\n",
    "            .drop('row_number') \n",
    "    \n",
    "\n",
    "    return events"
   ]
  },
  {
   "cell_type": "code",
   "execution_count": 185,
   "id": "c9243a53",
   "metadata": {},
   "outputs": [],
   "source": [
    "events = get_city(\n",
    "    events_geo=events_geo,\n",
    "    geo=geo\n",
    ")"
   ]
  },
  {
   "cell_type": "code",
   "execution_count": 186,
   "id": "8381254f",
   "metadata": {},
   "outputs": [],
   "source": [
    "#act_city\n",
    "window_act_city = Window().partitionBy('user_id').orderBy(F.col(\"date\").desc())\n",
    "act_city = events \\\n",
    "            .withColumn(\"row_number\", F.row_number().over(window_last_city)) \\\n",
    "            .filter(F.col(\"row_number\")==1) \\\n",
    "            .withColumnRenamed('city', 'act_city')"
   ]
  },
  {
   "cell_type": "code",
   "execution_count": 187,
   "id": "9758f55c",
   "metadata": {},
   "outputs": [],
   "source": [
    "window_travel = Window().partitionBy('user_id', 'id').orderBy(F.col('date'))\n",
    "travels = events \\\n",
    "    .withColumn(\"dense_rank\", F.dense_rank().over(window_travel)) \\\n",
    "    .withColumn(\"date_diff\", F.datediff(F.col('date').cast(DateType()), F.to_date(F.col(\"dense_rank\").cast(\"string\"), 'd'))) \\\n",
    "    .selectExpr('date_diff', 'user_id', 'date', \"id\", \"city\" ) \\\n",
    "    .groupBy(\"user_id\", \"date_diff\", \"id\", \"city\") \\\n",
    "    .agg(F.countDistinct(F.col('date')).alias('cnt_days'))"
   ]
  },
  {
   "cell_type": "code",
   "execution_count": 188,
   "id": "e4215c6a",
   "metadata": {},
   "outputs": [],
   "source": [
    "travels_array = travels.groupBy(\"user_id\") \\\n",
    "    .agg(F.collect_list('city').alias('travel_array')) \\\n",
    "    .select('user_id', 'travel_array', F.size('travel_array').alias('travel_count'))"
   ]
  },
  {
   "cell_type": "code",
   "execution_count": 189,
   "id": "5444d554",
   "metadata": {},
   "outputs": [],
   "source": [
    "home = travels.filter((F.col('cnt_days')>27)) \\\n",
    "    .withColumn('max_dt', F.max(F.col('date_diff')).over(Window().partitionBy('user_id')))\\\n",
    "    .where(F.col('date_diff') == F.col('max_dt')) \\\n",
    "    .selectExpr('user_id', 'city as home_city')"
   ]
  },
  {
   "cell_type": "code",
   "execution_count": 192,
   "id": "12db52d5",
   "metadata": {},
   "outputs": [],
   "source": [
    "def calc_local_tm(events):    \n",
    "    return events.withColumn(\"TIME\",F.col(\"event.datetime\").cast(\"Timestamp\"))\\\n",
    "        .withColumn(\"local_time\",F.from_utc_timestamp(F.col(\"TIME\"),F.col('timezone')))\\\n",
    "        .select(\"local_time\", 'user_id')"
   ]
  },
  {
   "cell_type": "code",
   "execution_count": 194,
   "id": "a619a8fd",
   "metadata": {},
   "outputs": [],
   "source": [
    "local_time = calc_local_tm(act_city)"
   ]
  },
  {
   "cell_type": "code",
   "execution_count": 195,
   "id": "1ffa212a",
   "metadata": {},
   "outputs": [],
   "source": [
    "result = events \\\n",
    "        .join(act_city, ['user_id'], 'left') \\\n",
    "        .join(travels_array,['user_id'], 'left') \\\n",
    "        .join(home, ['user_id'], 'left') \\\n",
    "        .join(local_time, ['user_id'], 'left') \\\n",
    "        .selectExpr('user_id', 'act_city', 'home_city', 'travel_count', 'travel_array', 'local_time')"
   ]
  }
 ],
 "metadata": {
  "kernelspec": {
   "display_name": "Python 3 (ipykernel)",
   "language": "python",
   "name": "python3"
  },
  "language_info": {
   "codemirror_mode": {
    "name": "ipython",
    "version": 3
   },
   "file_extension": ".py",
   "mimetype": "text/x-python",
   "name": "python",
   "nbconvert_exporter": "python",
   "pygments_lexer": "ipython3",
   "version": "3.9.13"
  }
 },
 "nbformat": 4,
 "nbformat_minor": 5
}
