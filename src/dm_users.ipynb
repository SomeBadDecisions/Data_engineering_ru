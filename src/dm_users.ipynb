{
 "cells": [
  {
   "cell_type": "code",
   "execution_count": 1,
   "id": "0d215439",
   "metadata": {},
   "outputs": [],
   "source": [
    "import os\n",
    "os.environ['HADOOP_CONF_DIR'] = '/etc/hadoop/conf'\n",
    "os.environ['YARN_CONF_DIR'] = '/etc/hadoop/conf'\n",
    " \n",
    "import findspark\n",
    "findspark.init()\n",
    "findspark.find()\n",
    " \n",
    " \n",
    "import pyspark\n",
    "from pyspark.sql import SparkSession\n",
    "from pyspark.context import SparkContext\n",
    "import pyspark.sql.functions as F\n",
    "from pyspark.sql.window import Window\n",
    "from pyspark.sql.types import DateType\n",
    " \n",
    " \n",
    "spark = SparkSession \\\n",
    "    .builder \\\n",
    "    .master(\"local[*]\") \\\n",
    "    .appName(\"rec_lake\") \\\n",
    "    .getOrCreate()"
   ]
  },
  {
   "cell_type": "code",
   "execution_count": 2,
   "id": "9d1f8537",
   "metadata": {},
   "outputs": [],
   "source": [
    "events_path = \"C:\\\\Users\\\\rubts\\\\Desktop\\\\stg\\\\stg\\\\part-00001.parquet\"\n",
    "\n",
    "events_geo = spark.read.parquet(events_path) \\\n",
    "    .where(\"event_type == 'message'\")\\\n",
    "    .withColumnRenamed(\"lat\", \"msg_lat\")\\\n",
    "    .withColumnRenamed(\"lon\",\"msg_lon\")\\\n",
    "    .withColumn('user_id', F.col('event.message_from'))\\\n",
    "    .withColumn('event_id', F.monotonically_increasing_id())"
   ]
  },
  {
   "cell_type": "code",
   "execution_count": 3,
   "id": "01db992e",
   "metadata": {},
   "outputs": [],
   "source": [
    "geo_path = \"C:\\\\Users\\\\rubts\\\\Desktop\\\\geo_timezone.csv\"\n",
    "\n",
    "geo = spark.read.csv(geo_path, sep=';', header= True)\\\n",
    "      .withColumnRenamed(\"lat\", \"city_lat\")\\\n",
    "      .withColumnRenamed(\"lng\", \"city_lon\")"
   ]
  },
  {
   "cell_type": "code",
   "execution_count": 4,
   "id": "9a7f18d1",
   "metadata": {},
   "outputs": [],
   "source": [
    "def get_city(events_geo, geo):\n",
    "\n",
    "    EARTH_R = 6371\n",
    "\n",
    "    calculate_diff = 2 * F.lit(EARTH_R) * F.asin(\n",
    "            F.sqrt(\n",
    "                F.pow(F.sin((F.radians(F.col(\"msg_lat\")) - F.radians(F.col(\"city_lat\"))) / 2), 2) +\n",
    "                F.cos(F.radians(F.col(\"msg_lat\"))) * F.cos(F.radians(F.col(\"city_lat\"))) *\n",
    "                F.pow(F.sin((F.radians(F.col(\"msg_lon\")) - F.radians(F.col(\"city_lon\"))) / 2), 2)\n",
    "            )\n",
    "        )\n",
    "\n",
    "    window = Window().partitionBy('event_id').orderBy(F.col('diff').asc())\n",
    "    events = events_geo \\\n",
    "            .crossJoin(geo) \\\n",
    "            .withColumn('diff', calculate_diff) \\\n",
    "            .withColumn(\"row_number\", F.row_number().over(window)) \\\n",
    "            .filter(F.col('row_number')==1) \\\n",
    "            .drop('row_number') \n",
    "    \n",
    "\n",
    "    return events"
   ]
  },
  {
   "cell_type": "code",
   "execution_count": 5,
   "id": "590c9b81",
   "metadata": {},
   "outputs": [],
   "source": [
    "events = get_city(\n",
    "    events_geo=events_geo,\n",
    "    geo=geo\n",
    ")"
   ]
  },
  {
   "cell_type": "code",
   "execution_count": 6,
   "id": "8381254f",
   "metadata": {},
   "outputs": [],
   "source": [
    "window_act_city = Window().partitionBy('user_id').orderBy(F.col(\"date\").desc())\n",
    "act_city = events \\\n",
    "            .withColumn(\"row_number\", F.row_number().over(window_act_city)) \\\n",
    "            .filter(F.col(\"row_number\")==1) \\\n",
    "            .withColumnRenamed('city', 'act_city')"
   ]
  },
  {
   "cell_type": "code",
   "execution_count": 35,
   "id": "64dbbd34",
   "metadata": {},
   "outputs": [],
   "source": [
    "window = Window.partitionBy('user_id').orderBy('date')\n",
    "\n",
    "travels = events \\\n",
    "            .withColumn('pre_city', F.lag('city').over(window)) \\\n",
    "            .withColumn('series', F.when(F.col('city') == F.col('pre_city'), F.lit(0)).otherwise(F.lit(1))) \\\n",
    "            .select('user_id', 'date', 'city', 'pre_city', 'series') \\\n",
    "            .withColumn('sum_series', F.sum('series').over(window)) \\\n",
    "            .groupBy('sum_series', 'user_id', 'city').agg(F.min('date').alias('date')) \\\n",
    "            .drop('sum_series')\n"
   ]
  },
  {
   "cell_type": "code",
   "execution_count": 36,
   "id": "dde7e558",
   "metadata": {
    "scrolled": true
   },
   "outputs": [],
   "source": [
    "travels_array = travels \\\n",
    "            .groupBy(\"user_id\") \\\n",
    "    .agg(F.collect_list('city').alias('travel_array')) \\\n",
    "    .select('user_id', 'travel_array', F.size('travel_array').alias('travel_count'))"
   ]
  },
  {
   "cell_type": "code",
   "execution_count": 82,
   "id": "35e84186",
   "metadata": {},
   "outputs": [],
   "source": [
    "window = Window.partitionBy('user_id').orderBy('date')\n",
    "window_desc = Window.partitionBy('user_id').orderBy(F.col('date').desc())\n",
    "\n",
    "home = travels \\\n",
    "        .withColumn('next_date', F.lead('date').over(window)) \\\n",
    "        .withColumn('days_staying', F.when(F.col('next_date').isNull(), '1') \\\n",
    "        .otherwise(F.datediff(F.col('next_date'), F.col('date')))) \\\n",
    "        .filter('days_staying > 27') \\\n",
    "        .withColumn('rn', F.row_number().over(window_desc)) \\\n",
    "        .filter('rn == 1') \\\n",
    "        .drop('rn') \\\n",
    "        .withColumnRenamed('city', 'home_city')"
   ]
  },
  {
   "cell_type": "code",
   "execution_count": 84,
   "id": "fd78b620",
   "metadata": {},
   "outputs": [],
   "source": [
    "def calc_local_tm(events):    \n",
    "    return events.withColumn(\"TIME\",F.col(\"event.datetime\").cast(\"Timestamp\"))\\\n",
    "        .withColumn(\"local_time\",F.from_utc_timestamp(F.col(\"TIME\"),F.col('timezone')))\\\n",
    "        .select(\"local_time\", 'user_id')"
   ]
  },
  {
   "cell_type": "code",
   "execution_count": 85,
   "id": "f9c55d29",
   "metadata": {},
   "outputs": [],
   "source": [
    "local_time = calc_local_tm(act_city)"
   ]
  },
  {
   "cell_type": "code",
   "execution_count": 90,
   "id": "fce26cc6",
   "metadata": {},
   "outputs": [],
   "source": [
    "result = events \\\n",
    "        .join(act_city, ['user_id'], 'left') \\\n",
    "        .join(travels_array,['user_id'], 'left') \\\n",
    "        .join(home, ['user_id'], 'left') \\\n",
    "        .join(local_time, ['user_id'], 'left') \\\n",
    "        .selectExpr('user_id', 'act_city', 'home_city', 'travel_count', 'travel_array', 'local_time')"
   ]
  }
 ],
 "metadata": {
  "kernelspec": {
   "display_name": "Python 3 (ipykernel)",
   "language": "python",
   "name": "python3"
  },
  "language_info": {
   "codemirror_mode": {
    "name": "ipython",
    "version": 3
   },
   "file_extension": ".py",
   "mimetype": "text/x-python",
   "name": "python",
   "nbconvert_exporter": "python",
   "pygments_lexer": "ipython3",
   "version": "3.9.13"
  }
 },
 "nbformat": 4,
 "nbformat_minor": 5
}
