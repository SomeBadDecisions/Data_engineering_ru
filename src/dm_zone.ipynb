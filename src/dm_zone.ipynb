{
 "cells": [
  {
   "cell_type": "code",
   "execution_count": 1,
   "id": "abcd24f7",
   "metadata": {},
   "outputs": [],
   "source": [
    "import os\n",
    "os.environ['HADOOP_CONF_DIR'] = '/etc/hadoop/conf'\n",
    "os.environ['YARN_CONF_DIR'] = '/etc/hadoop/conf'\n",
    " \n",
    "import findspark\n",
    "findspark.init()\n",
    "findspark.find()\n",
    " \n",
    " \n",
    "import pyspark\n",
    "from pyspark.sql import SparkSession\n",
    "from pyspark.context import SparkContext\n",
    "import pyspark.sql.functions as F\n",
    "from pyspark.sql.window import Window\n",
    "from pyspark.sql.types import DateType\n",
    " \n",
    " \n",
    "spark = SparkSession \\\n",
    "    .builder \\\n",
    "    .master(\"local[*]\") \\\n",
    "    .appName(\"rec_lake_2\") \\\n",
    "    .getOrCreate()"
   ]
  },
  {
   "cell_type": "code",
   "execution_count": 2,
   "id": "fc5c2965",
   "metadata": {},
   "outputs": [],
   "source": [
    "events_path = \"C:\\\\Users\\\\rubts\\\\Desktop\\\\stg\\\\stg\\\\part-00001.parquet\""
   ]
  },
  {
   "cell_type": "code",
   "execution_count": 3,
   "id": "14ecf95a",
   "metadata": {},
   "outputs": [],
   "source": [
    "geo_path = \"C:\\\\Users\\\\rubts\\\\Desktop\\\\geo_timezone.csv\""
   ]
  },
  {
   "cell_type": "code",
   "execution_count": 4,
   "id": "98ea2374",
   "metadata": {},
   "outputs": [],
   "source": [
    "events_geo = spark.read.parquet(events_path) \\\n",
    "    .withColumnRenamed(\"lat\", \"msg_lat\")\\\n",
    "    .withColumnRenamed(\"lon\",\"msg_lon\")\\\n",
    "    .withColumn('user_id', F.col('event.message_from'))\\\n",
    "    .withColumn('event_id', F.monotonically_increasing_id())"
   ]
  },
  {
   "cell_type": "code",
   "execution_count": 5,
   "id": "2dfcfc52",
   "metadata": {},
   "outputs": [],
   "source": [
    "geo = spark.read.csv(geo_path, sep=';', header= True)\\\n",
    "      .withColumnRenamed(\"lat\", \"city_lat\")\\\n",
    "      .withColumnRenamed(\"lng\", \"city_lon\")"
   ]
  },
  {
   "cell_type": "code",
   "execution_count": 9,
   "id": "acc6183b",
   "metadata": {},
   "outputs": [],
   "source": [
    "def get_city(events_geo, geo):\n",
    "\n",
    "    EARTH_R = 6371\n",
    "\n",
    "    calculate_diff = 2 * F.lit(EARTH_R) * F.asin(\n",
    "            F.sqrt(\n",
    "                F.pow(F.sin((F.radians(F.col(\"msg_lat\")) - F.radians(F.col(\"city_lat\"))) / 2), 2) +\n",
    "                F.cos(F.radians(F.col(\"msg_lat\"))) * F.cos(F.radians(F.col(\"city_lat\"))) *\n",
    "                F.pow(F.sin((F.radians(F.col(\"msg_lon\")) - F.radians(F.col(\"city_lon\"))) / 2), 2)\n",
    "            )\n",
    "        )\n",
    "\n",
    "    window = Window().partitionBy('event_id').orderBy(F.col('diff').asc())\n",
    "    events = events_geo \\\n",
    "            .crossJoin(geo) \\\n",
    "            .withColumn('diff', calculate_diff) \\\n",
    "            .withColumn(\"row_number\", F.row_number().over(window)) \\\n",
    "            .filter(F.col('row_number')==1) \\\n",
    "            .drop('row_number') \n",
    "    \n",
    "\n",
    "    return events"
   ]
  },
  {
   "cell_type": "code",
   "execution_count": 10,
   "id": "2a10ef2c",
   "metadata": {},
   "outputs": [],
   "source": [
    "events = get_city(\n",
    "    events_geo=events_geo,\n",
    "    geo=geo\n",
    ")"
   ]
  },
  {
   "cell_type": "code",
   "execution_count": 90,
   "id": "409d02d9",
   "metadata": {},
   "outputs": [],
   "source": [
    "w_week = Window.partitionBy(['city', F.trunc(F.col(\"date\"), \"week\")])\n",
    "w_month = Window.partitionBy(['city', F.trunc(F.col(\"date\"), \"month\")])\n",
    "\n",
    "pre_result = events.withColumn('week_message', F.count(F.when(events.event_type == 'message','event_id')).over(w_week)) \\\n",
    "    .withColumn('week_reaction', F.count(F.when(events.event_type == 'reaction','event_id')).over(w_week)) \\\n",
    "    .withColumn('week_subscription', F.count(F.when(events.event_type == 'subscription','event_id')).over(w_week)) \\\n",
    "    .withColumn('month_message', F.count(F.when(events.event_type == 'message','event_id')).over(w_month)) \\\n",
    "    .withColumn('month_reaction', F.count(F.when(events.event_type == 'reaction','event_id')).over(w_month)) \\\n",
    "    .withColumn('month_subscription', F.count(F.when(events.event_type == 'subscription','event_id')).over(w_month)) \\\n",
    "    .withColumn('month', F.trunc(F.col(\"date\"), \"month\")) \\\n",
    "    .withColumn('week', F.trunc(F.col(\"date\"), \"week\")) \\\n",
    "    .selectExpr('month', 'week', 'id as zone_id', 'week_message', 'week_reaction', 'week_subscription', \\\n",
    "            'month_message', 'month_reaction', 'month_subscription') \\\n",
    "    .distinct()"
   ]
  },
  {
   "cell_type": "code",
   "execution_count": 102,
   "id": "aea3ab61",
   "metadata": {},
   "outputs": [],
   "source": [
    "window = Window.partitionBy('user_id').orderBy(F.col('date'))\n",
    "reg = events \\\n",
    "        .withColumn('min_date', F.min('date').over(window)) \\\n",
    "        .withColumn('first_city', F.first('id').over(window)) \\\n",
    "        .withColumn('week', F.trunc(F.col(\"min_date\"), \"week\")) \\\n",
    "        .withColumn('month', F.trunc(F.col(\"min_date\"), \"month\")) \\\n",
    "        .selectExpr(\"user_id\", \"first_city\",  \"min_date\", \"week\", \"month\") \\\n",
    "        .distinct() "
   ]
  },
  {
   "cell_type": "code",
   "execution_count": 103,
   "id": "6356f60d",
   "metadata": {},
   "outputs": [],
   "source": [
    "r_week = Window.partitionBy(['first_city', \"week\"])\n",
    "r_month = Window.partitionBy(['first_city', \"month\"])\n",
    "\n",
    "reg_agg = reg \\\n",
    "        .withColumn('week_user', F.count('user_id').over(r_week)) \\\n",
    "        .withColumn('month_user', F.count('user_id').over(r_month)) \\\n",
    "        .selectExpr('month', 'week', 'month_user', 'week_user', 'first_city as zone_id') \\\n",
    "        .distinct()\n"
   ]
  },
  {
   "cell_type": "code",
   "execution_count": 104,
   "id": "5a12bcc4",
   "metadata": {},
   "outputs": [],
   "source": [
    "result = pre_result.join(reg_agg, ['week', 'month', 'zone_id'], 'left') \\\n",
    "        .select(pre_result['month'], 'week', 'zone_id', 'week_message', 'week_reaction', 'week_subscription', 'week_user', \\\n",
    "            'month_message', 'month_reaction', 'month_subscription', 'month_user')"
   ]
  }
 ],
 "metadata": {
  "kernelspec": {
   "display_name": "Python 3 (ipykernel)",
   "language": "python",
   "name": "python3"
  },
  "language_info": {
   "codemirror_mode": {
    "name": "ipython",
    "version": 3
   },
   "file_extension": ".py",
   "mimetype": "text/x-python",
   "name": "python",
   "nbconvert_exporter": "python",
   "pygments_lexer": "ipython3",
   "version": "3.9.13"
  }
 },
 "nbformat": 4,
 "nbformat_minor": 5
}
